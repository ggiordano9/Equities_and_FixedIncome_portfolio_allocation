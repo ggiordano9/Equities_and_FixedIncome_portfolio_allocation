{
 "cells": [
  {
   "cell_type": "markdown",
   "id": "d230245a",
   "metadata": {},
   "source": [
    "\"Robo Advisor with Sentiment Analysis\""
   ]
  },
  {
   "cell_type": "markdown",
   "id": "49cb822d",
   "metadata": {},
   "source": [
    "This project is dictatated by the following specificities:\n",
    "\n",
    "1. This project implements an unsupervised learning approach. This involves using a rule-based approach to analyze a comment. On the contrary, a supervised learning approach is a classification model that involves using traditional machine learning or deep learning methods.\n",
    "\n",
    "2. This project implements three libraries that follow lexical-based approach. Specifically, this project implements the TextBlob, VADER and IBM Watson libraries. While TextBlob and NLTK-VADER are open-source, IBM Watson is a paid library but allows one to access the API on trial basis for a few thousand times."
   ]
  },
  {
   "cell_type": "markdown",
   "id": "761506af",
   "metadata": {},
   "source": [
    "Getting to know the libraries:\n",
    "\n",
    "- IBM Watson Natural Language Understanding: Analyze various features of text content at scale. Provide text, raw HTML, or a public URL and IBM Watson Natural Language Understanding will give you results for the features you request. The service cleans HTML content before analysis by default, so the results can ignore most advertisements and other unwanted content. Natural Language Understanding includes a set of text analytics features that you can use to extract meaning from unstructured data.\n",
    "\n",
    "- TextBlob: A Python-based open-source library that can be used to perform sentiment analysis effectively.\n",
    "\n",
    "- NLTK-VADER: VADER or Valence Aware Dictionary and Sentiment Reasoner is a rule/lexicon-based, open-source sentiment analyzer pre-built library, protected under the MIT liscence "
   ]
  },
  {
   "cell_type": "code",
   "execution_count": null,
   "id": "4d45280b",
   "metadata": {},
   "outputs": [],
   "source": []
  },
  {
   "cell_type": "markdown",
   "id": "0c257761",
   "metadata": {},
   "source": [
    "Required libraries and dependencies"
   ]
  },
  {
   "cell_type": "code",
   "execution_count": 1,
   "id": "229827f4",
   "metadata": {},
   "outputs": [
    {
     "data": {
      "text/plain": [
       "True"
      ]
     },
     "execution_count": 1,
     "metadata": {},
     "output_type": "execute_result"
    }
   ],
   "source": [
    "# import required libraries and dependencies\n",
    "\n",
    "import pandas as pd\n",
    "import requests\n",
    "import json\n",
    "import os\n",
    "from dotenv import load_dotenv\n",
    "\n",
    "# Load .env environment variables\n",
    "load_dotenv()"
   ]
  },
  {
   "cell_type": "code",
   "execution_count": null,
   "id": "518d2a8e",
   "metadata": {},
   "outputs": [],
   "source": []
  },
  {
   "cell_type": "markdown",
   "id": "9f0fb951",
   "metadata": {},
   "source": [
    "The IBM Watson Natural Language Understanding (NLU) Library"
   ]
  },
  {
   "cell_type": "markdown",
   "id": "085d3c71",
   "metadata": {},
   "source": [
    "Note: To guage the results, you will have to keep looking at thescore that is returned as a result. If the score is greater than 0, then the sentiment is considered to be positive, else negative."
   ]
  },
  {
   "cell_type": "code",
   "execution_count": 2,
   "id": "0b2ecdc1",
   "metadata": {},
   "outputs": [
    {
     "name": "stderr",
     "output_type": "stream",
     "text": [
      "/opt/anaconda3/envs/dev/lib/python3.7/site-packages/ipykernel_launcher.py:9: DeprecationWarning: watson-developer-cloud moved to ibm-watson. To get updates, use the new package.\n",
      "  if __name__ == '__main__':\n"
     ]
    },
    {
     "ename": "TypeError",
     "evalue": "__init__() got an unexpected keyword argument 'watson_nlu_api'",
     "output_type": "error",
     "traceback": [
      "\u001b[0;31m---------------------------------------------------------------------------\u001b[0m",
      "\u001b[0;31mTypeError\u001b[0m                                 Traceback (most recent call last)",
      "\u001b[0;32m<ipython-input-2-31479ee80522>\u001b[0m in \u001b[0;36m<module>\u001b[0;34m\u001b[0m\n\u001b[1;32m      7\u001b[0m     \u001b[0mversion\u001b[0m\u001b[0;34m=\u001b[0m\u001b[0;34m'2018-11-16'\u001b[0m\u001b[0;34m,\u001b[0m\u001b[0;34m\u001b[0m\u001b[0;34m\u001b[0m\u001b[0m\n\u001b[1;32m      8\u001b[0m     \u001b[0mwatson_nlu_api\u001b[0m \u001b[0;34m=\u001b[0m \u001b[0mos\u001b[0m\u001b[0;34m.\u001b[0m\u001b[0mgetenv\u001b[0m\u001b[0;34m(\u001b[0m\u001b[0;34m'WATSON_NLU_API'\u001b[0m\u001b[0;34m)\u001b[0m\u001b[0;34m,\u001b[0m\u001b[0;34m\u001b[0m\u001b[0;34m\u001b[0m\u001b[0m\n\u001b[0;32m----> 9\u001b[0;31m     \u001b[0mwatson_nlu_url\u001b[0m \u001b[0;34m=\u001b[0m \u001b[0mos\u001b[0m\u001b[0;34m.\u001b[0m\u001b[0mgetenv\u001b[0m\u001b[0;34m(\u001b[0m\u001b[0;34m'WATSON_NLU_URL'\u001b[0m\u001b[0;34m)\u001b[0m\u001b[0;34m\u001b[0m\u001b[0;34m\u001b[0m\u001b[0m\n\u001b[0m\u001b[1;32m     10\u001b[0m     )\n",
      "\u001b[0;32m/opt/anaconda3/envs/dev/lib/python3.7/site-packages/watson_developer_cloud/utils.py\u001b[0m in \u001b[0;36mdeprecated_func\u001b[0;34m(*args, **kwargs)\u001b[0m\n\u001b[1;32m      8\u001b[0m                           \u001b[0mcategory\u001b[0m\u001b[0;34m=\u001b[0m\u001b[0mDeprecationWarning\u001b[0m\u001b[0;34m,\u001b[0m\u001b[0;34m\u001b[0m\u001b[0;34m\u001b[0m\u001b[0m\n\u001b[1;32m      9\u001b[0m                           stacklevel=2)\n\u001b[0;32m---> 10\u001b[0;31m             \u001b[0;32mreturn\u001b[0m \u001b[0mfunc\u001b[0m\u001b[0;34m(\u001b[0m\u001b[0;34m*\u001b[0m\u001b[0margs\u001b[0m\u001b[0;34m,\u001b[0m \u001b[0;34m**\u001b[0m\u001b[0mkwargs\u001b[0m\u001b[0;34m)\u001b[0m\u001b[0;34m\u001b[0m\u001b[0;34m\u001b[0m\u001b[0m\n\u001b[0m\u001b[1;32m     11\u001b[0m \u001b[0;34m\u001b[0m\u001b[0m\n\u001b[1;32m     12\u001b[0m         \u001b[0;32mreturn\u001b[0m \u001b[0mdeprecated_func\u001b[0m\u001b[0;34m\u001b[0m\u001b[0;34m\u001b[0m\u001b[0m\n",
      "\u001b[0;31mTypeError\u001b[0m: __init__() got an unexpected keyword argument 'watson_nlu_api'"
     ]
    }
   ],
   "source": [
    "# importing the IBM Watson Natural Language Understanding library\n",
    "\n",
    "from watson_developer_cloud import NaturalLanguageUnderstandingV1\n",
    "from watson_developer_cloud.natural_language_understanding_v1 import Features, EntitiesOptions, KeywordsOptions, SentimentOptions, CategoriesOptions\n",
    "\n",
    "natural_language_understanding = NaturalLanguageUnderstandingV1(                                         \n",
    "    version='2018-11-16',\n",
    "    watson_nlu_api = os.getenv('WATSON_NLU_API'),\n",
    "    watson_nlu_url = os.getenv('WATSON_NLU_URL')\n",
    "    )"
   ]
  },
  {
   "cell_type": "code",
   "execution_count": 7,
   "id": "5fe8f550",
   "metadata": {},
   "outputs": [],
   "source": [
    "# Defining a sentiment_score function\n",
    "\n",
    "def Sentiment_score(input_text): \n",
    "    # Input text can be sentence, paragraph or document\n",
    "    response = natural_language_understanding.analyze (\n",
    "    text = input_text,\n",
    "    features = Features(sentiment=SentimentOptions())).get_result()\n",
    "    # From the response extract score which is between -1 to 1\n",
    "    res = response.get('sentiment').get('document').get('score')\n",
    "    return res"
   ]
  },
  {
   "cell_type": "code",
   "execution_count": null,
   "id": "19621ef5",
   "metadata": {},
   "outputs": [],
   "source": []
  },
  {
   "cell_type": "code",
   "execution_count": null,
   "id": "d608f214",
   "metadata": {},
   "outputs": [],
   "source": []
  },
  {
   "cell_type": "markdown",
   "id": "76ddca7b",
   "metadata": {},
   "source": [
    "The TextBlob library"
   ]
  },
  {
   "cell_type": "markdown",
   "id": "77d633f2",
   "metadata": {},
   "source": [
    "Note: TextBlob's sentiment function returns tuple, polarity, and subjectivity and the polarity score floats within the range of -1 and 1 where anything greater than 0 is positive and below 0 is negative."
   ]
  },
  {
   "cell_type": "code",
   "execution_count": 1,
   "id": "7a8fdf2b",
   "metadata": {},
   "outputs": [],
   "source": [
    "# importing the TextBlob library\n",
    "\n",
    "from textblob import TextBlob\n",
    "# Get the polarity score using below function\n",
    "def get_textBlob_score(sent):\n",
    "    # This polarity score is between -1 to 1\n",
    "    polarity = TextBlob(sent).sentiment.polarity\n",
    "    return polarity"
   ]
  },
  {
   "cell_type": "code",
   "execution_count": null,
   "id": "96381701",
   "metadata": {},
   "outputs": [],
   "source": []
  },
  {
   "cell_type": "code",
   "execution_count": null,
   "id": "2b6d8231",
   "metadata": {},
   "outputs": [],
   "source": []
  },
  {
   "cell_type": "code",
   "execution_count": null,
   "id": "fcb80cc9",
   "metadata": {},
   "outputs": [],
   "source": []
  },
  {
   "cell_type": "markdown",
   "id": "41575a70",
   "metadata": {},
   "source": [
    "The NLTK-VADER library"
   ]
  },
  {
   "cell_type": "markdown",
   "id": "6a5b4589",
   "metadata": {},
   "source": [
    "Note: VADER's sentiment analyzer class will return the polarity score in dictionary format which will help in evaluating the probability of a positive, negative or neutral sentiment. If there is more probability of positive, then predictive label can be given to positive sentiment, else negative."
   ]
  },
  {
   "cell_type": "code",
   "execution_count": 2,
   "id": "6393b2cb",
   "metadata": {},
   "outputs": [
    {
     "name": "stderr",
     "output_type": "stream",
     "text": [
      "[nltk_data] Downloading package vader_lexicon to\n",
      "[nltk_data]     /Users/henrywilcox/nltk_data...\n"
     ]
    },
    {
     "data": {
      "text/plain": [
       "True"
      ]
     },
     "execution_count": 2,
     "metadata": {},
     "output_type": "execute_result"
    }
   ],
   "source": [
    "# importing the VADER package and download NLTK wrapper for VADER library\n",
    "\n",
    "import nltk\n",
    "nltk.download('vader_lexicon')"
   ]
  },
  {
   "cell_type": "code",
   "execution_count": 3,
   "id": "eeaf99a1",
   "metadata": {},
   "outputs": [],
   "source": [
    "# import the downloaded NLTK-based VADER library and acquire the sentiment score for available input or dataset\n",
    "\n",
    "from nltk.sentiment.vader import SentimentIntensityAnalyzer\n",
    "sid = SentimentIntensityAnalyzer()\n",
    "def get_vader_score(sent):\n",
    "    # Polarity score returns dictionary\n",
    "    ss = sid.polarity_scores(sent)\n",
    "    for k in sorted(ss):\n",
    "        print('{0}: {1}, '.format(k, ss[k]), end='')\n",
    "        print()"
   ]
  },
  {
   "cell_type": "code",
   "execution_count": null,
   "id": "4010569f",
   "metadata": {},
   "outputs": [],
   "source": []
  }
 ],
 "metadata": {
  "kernelspec": {
   "display_name": "Python (dev)",
   "language": "python",
   "name": "dev"
  },
  "language_info": {
   "codemirror_mode": {
    "name": "ipython",
    "version": 3
   },
   "file_extension": ".py",
   "mimetype": "text/x-python",
   "name": "python",
   "nbconvert_exporter": "python",
   "pygments_lexer": "ipython3",
   "version": "3.7.10"
  }
 },
 "nbformat": 4,
 "nbformat_minor": 5
}
