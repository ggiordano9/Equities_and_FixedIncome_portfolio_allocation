{
 "cells": [
  {
   "cell_type": "markdown",
   "id": "67a8594f",
   "metadata": {},
   "source": [
    "# Markdown\n",
    "\n",
    "- 1- Authentication,\n",
    "- 2- Get CSV file.\n",
    "- 3- Get unique tickers in order for us to search tweets that relate to them on twitter.\n",
    "- 4- Download the tweets that have those tickers. <------- Here.\n",
    "- 5- Create a model that can classify those tweets into Positive/Negative.\n",
    "- 6- Use the model in step 5 to classify the downloaded tweets in step 4.\n",
    "- 7- get only the positive tweets.\n",
    "- 8- Analysis."
   ]
  },
  {
   "cell_type": "code",
   "execution_count": 9,
   "id": "d0b0a3aa",
   "metadata": {},
   "outputs": [
    {
     "name": "stderr",
     "output_type": "stream",
     "text": [
      "[nltk_data] Downloading package stopwords to\n",
      "[nltk_data]     C:\\Users\\omarm\\AppData\\Roaming\\nltk_data...\n",
      "[nltk_data]   Package stopwords is already up-to-date!\n"
     ]
    },
    {
     "data": {
      "text/plain": [
       "True"
      ]
     },
     "execution_count": 9,
     "metadata": {},
     "output_type": "execute_result"
    }
   ],
   "source": [
    "# Import Libraries\n",
    "import pandas as pd \n",
    "from textblob import TextBlob\n",
    "import sys\n",
    "import tweepy\n",
    "import matplotlib.pyplot as plt #to display our wordcloud\n",
    "import pandas as pd\n",
    "import numpy as np #to get the color of our image\n",
    "import os\n",
    "import nltk\n",
    "import pycountry\n",
    "import re\n",
    "import string\n",
    "from dotenv import load_dotenv\n",
    "import requests\n",
    "import json\n",
    "from wordcloud import WordCloud, STOPWORDS, ImageColorGenerator\n",
    "from PIL import Image #to load out image\n",
    "from nltk.sentiment.vader import SentimentIntensityAnalyzer\n",
    "from langdetect import detect\n",
    "from nltk.stem import SnowballStemmer\n",
    "from nltk.sentiment.vader import SentimentIntensityAnalyzer\n",
    "from sklearn.feature_extraction.text import CountVectorizer\n",
    "\n",
    "nltk.download('stopwords')"
   ]
  },
  {
   "cell_type": "markdown",
   "id": "094251a7",
   "metadata": {},
   "source": [
    "# Helper"
   ]
  },
  {
   "cell_type": "code",
   "execution_count": 22,
   "id": "dde3325f",
   "metadata": {},
   "outputs": [],
   "source": [
    "# Setting Up, basic Sentiment Analysis review\n",
    "def percentage(part,whole):\n",
    "    return 100 * float(part)/float(whole) \n",
    "\n",
    "\n",
    "# Valid value.\n",
    "def getValidValue():\n",
    "    \"\"\"\n",
    "    return: float\n",
    "    \"\"\"\n",
    "    i = 1\n",
    "    while (type(i) != float):\n",
    "        i = input(\"Enter the amounts of tweet to extract per ticker:  \")\n",
    "        try:\n",
    "            i = float(i)\n",
    "            if type(i) == float:\n",
    "                break\n",
    "        except:\n",
    "            print(\"Please enter a valid numbers.... Thank you.\")\n",
    "    return i"
   ]
  },
  {
   "cell_type": "markdown",
   "id": "bfb33589",
   "metadata": {},
   "source": [
    "# Authentication."
   ]
  },
  {
   "cell_type": "code",
   "execution_count": 10,
   "id": "5cee7b95",
   "metadata": {},
   "outputs": [],
   "source": [
    "consumerKey = \"lh8PpKHuWwF8h6DiTnL6GCSns\"\n",
    "consumerSecret = \"bR2tt7BitEqstnOGE8Vjm88eFkOk0frTyd72AR76I2RWAymgY1\"\n",
    "accessToken = \"243688593-4QY2mdaSjgz4qDNwFWhrBsCW6ZBJLkBWHkBxCoo4\"\n",
    "accessTokenSecret = \"2mF3OGsdZGP5sYZSC4fqihyp0bWFkT2o0T0rNSFH6Crm1\""
   ]
  },
  {
   "cell_type": "code",
   "execution_count": 12,
   "id": "9dbf7265",
   "metadata": {},
   "outputs": [],
   "source": [
    "# Authentication\n",
    "# consumerKey = os.getenv(\"TWITTER_API_KEY\")\n",
    "# consumerSecret = os.getenv(\"TWITTER_SECRET_KEY\")\n",
    "# accessToken = os.getenv(\"TWITTER_ACCESS_TOKEN\")\n",
    "# accessTokenSecret = os.getenv(\"TWITTER_ACCESS_TOKEN_SECRET\")\n",
    "\n",
    "auth = tweepy.OAuthHandler(consumerKey, consumerSecret)\n",
    "auth.set_access_token(accessToken, accessTokenSecret)\n",
    "api = tweepy.API(auth)"
   ]
  },
  {
   "cell_type": "code",
   "execution_count": 13,
   "id": "10798e43",
   "metadata": {},
   "outputs": [],
   "source": [
    "df = pd.read_csv(\"https://raw.githubusercontent.com/joebary/Project_3_Team_1/main/ESG_data.csv\")"
   ]
  },
  {
   "cell_type": "code",
   "execution_count": 15,
   "id": "4a476fc2",
   "metadata": {},
   "outputs": [
    {
     "data": {
      "text/html": [
       "<div>\n",
       "<style scoped>\n",
       "    .dataframe tbody tr th:only-of-type {\n",
       "        vertical-align: middle;\n",
       "    }\n",
       "\n",
       "    .dataframe tbody tr th {\n",
       "        vertical-align: top;\n",
       "    }\n",
       "\n",
       "    .dataframe thead th {\n",
       "        text-align: right;\n",
       "    }\n",
       "</style>\n",
       "<table border=\"1\" class=\"dataframe\">\n",
       "  <thead>\n",
       "    <tr style=\"text-align: right;\">\n",
       "      <th></th>\n",
       "      <th>Date</th>\n",
       "      <th>Total-Score</th>\n",
       "      <th>E-Score</th>\n",
       "      <th>S-Score</th>\n",
       "      <th>G-Score</th>\n",
       "      <th>Ticker</th>\n",
       "    </tr>\n",
       "  </thead>\n",
       "  <tbody>\n",
       "    <tr>\n",
       "      <th>0</th>\n",
       "      <td>2014-09-01</td>\n",
       "      <td>61.0</td>\n",
       "      <td>74.0</td>\n",
       "      <td>45.0</td>\n",
       "      <td>62.0</td>\n",
       "      <td>AAPL</td>\n",
       "    </tr>\n",
       "    <tr>\n",
       "      <th>1</th>\n",
       "      <td>2014-10-01</td>\n",
       "      <td>60.0</td>\n",
       "      <td>74.0</td>\n",
       "      <td>45.0</td>\n",
       "      <td>62.0</td>\n",
       "      <td>AAPL</td>\n",
       "    </tr>\n",
       "    <tr>\n",
       "      <th>2</th>\n",
       "      <td>2014-11-01</td>\n",
       "      <td>61.0</td>\n",
       "      <td>74.0</td>\n",
       "      <td>45.0</td>\n",
       "      <td>62.0</td>\n",
       "      <td>AAPL</td>\n",
       "    </tr>\n",
       "  </tbody>\n",
       "</table>\n",
       "</div>"
      ],
      "text/plain": [
       "         Date  Total-Score  E-Score  S-Score  G-Score Ticker\n",
       "0  2014-09-01         61.0     74.0     45.0     62.0   AAPL\n",
       "1  2014-10-01         60.0     74.0     45.0     62.0   AAPL\n",
       "2  2014-11-01         61.0     74.0     45.0     62.0   AAPL"
      ]
     },
     "execution_count": 15,
     "metadata": {},
     "output_type": "execute_result"
    }
   ],
   "source": [
    "df.head(3)"
   ]
  },
  {
   "cell_type": "code",
   "execution_count": 20,
   "id": "bb57be3c",
   "metadata": {},
   "outputs": [
    {
     "name": "stdout",
     "output_type": "stream",
     "text": [
      "['AAPL', 'MSFT', 'AMZN', 'FB', 'TSLA', 'GOOGL', 'JNJ', 'JPM', 'V', 'UNH', 'PG', 'NVDA', 'DIS', 'MA', 'HD', 'PYPL', 'BAC', 'VZ', 'CMCSA', 'ADBE', 'NFLX', 'INTC', 'T', 'MRK', 'PFE', 'WMT', 'CRM', 'TMO', 'ABT', 'PEP', 'KO', 'XOM', 'CSCO', 'ABBV', 'NKE', 'AVGO', 'QCOM', 'CVX', 'ACN', 'COST', 'MDT', 'MCD', 'NEE', 'TXN', 'DHR', 'HON', 'UNP', 'BMY', 'WFC', 'C', 'AMGN', 'LLY', 'PM', 'SBUX', 'LOW', 'ORCL', 'IBM', 'UPS', 'BA', 'MS', 'BLK', 'RTX', 'CAT', 'GS', 'NOW', 'GE', 'MMM', 'INTU', 'CVS', 'AMT', 'TGT', 'ISRG', 'DE', 'CHTR', 'BKNG', 'SCHW', 'MU', 'AMAT', 'LMT', 'FIS', 'TJX', 'ANTM', 'MDLZ', 'SYK', 'CI', 'ZTS', 'AXP', 'SPGI', 'GILD', 'TMUS', 'MO', 'LRCX', 'BDX', 'ADP', 'CSX', 'CME', 'PLD', 'CB', 'CL', 'TFC', 'ADSK', 'ATVI', 'USB', 'PNC', 'DUK', 'FISV', 'CCI', 'ICE', 'SO', 'NSC', 'APD', 'GPN', 'VRTX', 'EQIX', 'ITW', 'SHW', 'D', 'FDX', 'DD', 'HUM', 'EL', 'ADI', 'MMC', 'ECL', 'ILMN', 'EW', 'PGR', 'GM', 'DG', 'BSX', 'NEM', 'ETN', 'COF', 'REGN', 'EMR', 'COP', 'AON', 'WM', 'HCA', 'MCO', 'NOC', 'FCX', 'ROP', 'KMB', 'ROST', 'CTSH', 'KLAC', 'TEL', 'IDXX', 'BAX', 'TWTR', 'EXC', 'EA', 'APH', 'CNC', 'AEP', 'SNPS', 'APTV', 'STZ', 'MCHP', 'A', 'BIIB', 'SYY', 'CMG', 'CDNS', 'MET', 'DLR', 'DXCM', 'JCI', 'TT', 'BK', 'MSCI', 'XLNX', 'PH', 'IQV', 'PPG', 'GIS', 'CMI', 'F', 'HPQ', 'GD', 'TRV', 'AIG', 'TROW', 'EBAY', 'MAR', 'SLB', 'SRE', 'MNST', 'XEL', 'EOG', 'ALXN', 'ORLY', 'INFO', 'ALL', 'PSA', 'ZBH', 'TDG', 'VRSK', 'WBA', 'PRU', 'YUM', 'HLT', 'PSX', 'ANSS', 'CTAS', 'RMD', 'PCAR', 'ES', 'ROK', 'DFS', 'BLL', 'SBAC', 'MCK', 'PAYX', 'AFL', 'ADM', 'MTD', 'MSI', 'AZO', 'MPC', 'AME', 'FAST', 'SWK', 'KMI', 'PEG', 'GLW', 'VFC', 'LUV', 'SPG', 'FRC', 'WEC', 'AWK', 'STT', 'SWKS', 'DLTR', 'WLTW', 'WELL', 'WMB', 'KEYS', 'DAL', 'CPRT', 'MXIM', 'WY', 'LYB', 'BBY', 'CLX', 'KR', 'FTV', 'CERN', 'VLO', 'ED', 'AMP', 'MKC', 'AJG', 'EIX', 'FLT', 'DTE', 'DHI', 'VIAC', 'FITB', 'SIVB', 'HSY', 'EFX', 'AVB', 'KHC', 'PXD', 'TER', 'VMC', 'PPL', 'LH', 'ETSY', 'CHD', 'LEN', 'O', 'CBRE', 'IP', 'QRVO', 'RSG', 'NTRS', 'KSU', 'ARE', 'VRSN', 'HOLX', 'SYF', 'EQR', 'ALB', 'XYL', 'EXPE', 'FTNT', 'MLM', 'URI', 'LVS', 'TSN', 'ETR', 'MTB', 'CDW', 'TFX', 'DOV', 'AEE', 'GRMN', 'OKE', 'HIG', 'KEY', 'GWW', 'BR', 'HAL']\n"
     ]
    },
    {
     "data": {
      "text/plain": [
       "307"
      ]
     },
     "execution_count": 20,
     "metadata": {},
     "output_type": "execute_result"
    }
   ],
   "source": [
    "keywords = list(df[\"Ticker\"].unique())\n",
    "print(keywords)\n",
    "len(keywords)"
   ]
  },
  {
   "cell_type": "markdown",
   "id": "e5078009",
   "metadata": {},
   "source": [
    "# Fetching Tweets by Hashtag or Keyword"
   ]
  },
  {
   "cell_type": "code",
   "execution_count": null,
   "id": "9d33ba58",
   "metadata": {},
   "outputs": [],
   "source": [
    "noOfTweets = 1\n",
    "noOfTweets = getValidValue()\n",
    "\n",
    "# counts\n",
    "positive  = 0\n",
    "negative = 0\n",
    "neutral = 0\n",
    "\n",
    "# score\n",
    "polarity = 0\n",
    "\n",
    "\n",
    "tweets = []\n",
    "neutral_list = []\n",
    "negative_list = []\n",
    "positive_list = []\n",
    "\n",
    "#temp_list = tweepy.Cursor(api.search_tweets, q='AAPL').items(noOfTweet)"
   ]
  },
  {
   "cell_type": "code",
   "execution_count": 52,
   "id": "d6fca7b6",
   "metadata": {},
   "outputs": [
    {
     "data": {
      "text/plain": [
       "tweepy.cursor.ItemIterator"
      ]
     },
     "execution_count": 52,
     "metadata": {},
     "output_type": "execute_result"
    }
   ],
   "source": [
    "# Dates\n",
    "date_since = \"2021-10-01\"\n",
    "date_until = \"2021-12-01\"\n",
    "\n",
    "for keyword in keywords:\n",
    "    tweets.append(tweepy.Cursor(api.search_tweets, q = keyword ,lang=\"en\", since=date_since, until=date_until).items(noOfTweets))\n"
   ]
  },
  {
   "cell_type": "code",
   "execution_count": null,
   "id": "126c99a6",
   "metadata": {},
   "outputs": [],
   "source": [
    "#create an empty list to store results\n",
    "#tweets_list=[]\n",
    "\n",
    "# iterate throw the results of the api search\n",
    "#for item in tweets:\n",
    "    #create a dict object with the values that we want to store it\n",
    "    #myTweet = { \"tweet_id\": item.id_str,\n",
    "    #            \"location\": item.user.location, \n",
    "    #            \"text\": item.text, \n",
    "    #            \"tweet_date\": item.created_at\n",
    "    #          }"
   ]
  },
  {
   "cell_type": "markdown",
   "id": "424ab878",
   "metadata": {},
   "source": [
    "# This is going to analyze the text"
   ]
  },
  {
   "cell_type": "code",
   "execution_count": null,
   "id": "2c2edf60",
   "metadata": {},
   "outputs": [],
   "source": [
    "for tweet in tweets:\n",
    "    \n",
    "    tweet_list.append(tweet.text)\n",
    "    analysis = TextBlob(tweet.text)\n",
    "    score = SentimentIntensityAnalyzer().polarity_scores(tweet.text)\n",
    "    neg = score['neg']\n",
    "    neu = score['neu']\n",
    "    pos = score['pos']\n",
    "    comp = score['compound']\n",
    "    polarity += analysis.sentiment.polarity\n",
    "    \n",
    "    if neg > pos:\n",
    "        negative_list.append(tweet.text)\n",
    "        negative += 1\n",
    "\n",
    "    elif pos > neg:\n",
    "        positive_list.append(tweet.text)\n",
    "        positive += 1\n",
    "    \n",
    "    elif pos == neg:\n",
    "        neutral_list.append(tweet.text)\n",
    "        neutral += 1\n",
    "\n",
    "positive = percentage(positive, noOfTweet)\n",
    "negative = percentage(negative, noOfTweet)\n",
    "neutral = percentage(neutral, noOfTweet)\n",
    "polarity = percentage(polarity, noOfTweet)\n",
    "positive = format(positive, '.1f')\n",
    "negative = format(negative, '.1f')\n",
    "neutral = format(neutral, '.1f')\n"
   ]
  },
  {
   "cell_type": "code",
   "execution_count": null,
   "id": "dcefb42d",
   "metadata": {},
   "outputs": [],
   "source": [
    "# Dataframe, Save as CSV, EXCEL -----> GITHUB/AWS"
   ]
  },
  {
   "cell_type": "code",
   "execution_count": null,
   "id": "6698970b",
   "metadata": {},
   "outputs": [],
   "source": []
  },
  {
   "cell_type": "code",
   "execution_count": null,
   "id": "d9d5e044",
   "metadata": {},
   "outputs": [],
   "source": []
  }
 ],
 "metadata": {
  "kernelspec": {
   "display_name": "Python 3 (ipykernel)",
   "language": "python",
   "name": "python3"
  },
  "language_info": {
   "codemirror_mode": {
    "name": "ipython",
    "version": 3
   },
   "file_extension": ".py",
   "mimetype": "text/x-python",
   "name": "python",
   "nbconvert_exporter": "python",
   "pygments_lexer": "ipython3",
   "version": "3.8.10"
  }
 },
 "nbformat": 4,
 "nbformat_minor": 5
}
